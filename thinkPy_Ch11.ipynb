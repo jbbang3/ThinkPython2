{
 "cells": [
  {
   "cell_type": "markdown",
   "metadata": {},
   "source": [
    "## Ch11. Dictionary\n",
    "### Exercise 1\n",
    "Write a function that reads the words and stores tham as keys"
   ]
  },
  {
   "cell_type": "code",
   "execution_count": 1,
   "metadata": {},
   "outputs": [],
   "source": [
    "fin=open('words.txt')\n",
    "word={}\n",
    "for line in fin:\n",
    "    w=line.strip()\n",
    "    word[w]=1"
   ]
  },
  {
   "cell_type": "code",
   "execution_count": 3,
   "metadata": {},
   "outputs": [
    {
     "name": "stdout",
     "output_type": "stream",
     "text": [
      "{1: 'a', 2: 'b', 4: 'c'}\n"
     ]
    }
   ],
   "source": [
    "def invert_dict(d):\n",
    "    inverse = dict()\n",
    "    for key in d:\n",
    "        inverse.setdefault(d[key], key)    \n",
    "    return inverse\n",
    "\n",
    "aa={'a': 1, 'b': 2, 'c':4}\n",
    "\n",
    "ab=invert_dict(aa)\n",
    "print(ab)"
   ]
  },
  {
   "cell_type": "code",
   "execution_count": 17,
   "metadata": {},
   "outputs": [
    {
     "data": {
      "text/plain": [
       "125"
      ]
     },
     "execution_count": 17,
     "metadata": {},
     "output_type": "execute_result"
    }
   ],
   "source": [
    "known = {(0,0):1, (0,1):2}\n",
    "def ack(m,n):\n",
    "    if m < 0 or n < 0:\n",
    "        return None\n",
    "    elif (m,n) in known:\n",
    "        return known[(m,n)]\n",
    "    elif m==0:\n",
    "        res=known.setdefault((m,n),n+1)\n",
    "        return res \n",
    "    elif m>0 and n==0:\n",
    "        res = known.setdefault((m,n), ack(m-1,1))\n",
    "        return res\n",
    "    elif m>0 and n>0:\n",
    "        res = known.setdefault((m,n), ack(m-1,ack(m,n-1)))\n",
    "        return res\n",
    "\n",
    "\n",
    "ack(3,4)\n"
   ]
  },
  {
   "cell_type": "code",
   "execution_count": 19,
   "metadata": {},
   "outputs": [
    {
     "data": {
      "text/plain": [
       "23"
      ]
     },
     "execution_count": 19,
     "metadata": {},
     "output_type": "execute_result"
    }
   ],
   "source": [
    "#has duplicate dictionary version\n",
    "\n",
    "def has_duplicates(l):\n",
    "    d=dict()\n",
    "    for item in l:\n",
    "        if item not in d:\n",
    "            d[item]=True\n",
    "        else:\n",
    "            return True\n",
    "    return False\n",
    "\n",
    "\n",
    "has_duplicates([1,2,5,6,23,23])"
   ]
  },
  {
   "cell_type": "code",
   "execution_count": 58,
   "metadata": {},
   "outputs": [
    {
     "name": "stdout",
     "output_type": "stream",
     "text": [
      "9 here\n",
      "1 9\n",
      "this time IBM HAL\n",
      "{'IBM': 'HAL'}\n",
      "2 9\n",
      "this time IBM banana\n",
      "3 9\n",
      "this time IBM jj\n",
      "4 9\n",
      "this time IBM train\n",
      "5 9\n",
      "this time IBM cheer\n",
      "6 9\n",
      "this time IBM jolly\n",
      "7 9\n",
      "this time IBM jollt\n",
      "8 9\n",
      "this time IBM molley\n",
      "9 here\n",
      "2 9\n",
      "this time HAL banana\n",
      "3 9\n",
      "this time HAL jj\n",
      "4 9\n",
      "this time HAL train\n",
      "5 9\n",
      "this time HAL cheer\n",
      "6 9\n",
      "this time HAL jolly\n",
      "7 9\n",
      "this time HAL jollt\n",
      "8 9\n",
      "this time HAL molley\n",
      "9 here\n",
      "3 9\n",
      "this time banana jj\n",
      "4 9\n",
      "this time banana train\n",
      "5 9\n",
      "this time banana cheer\n",
      "6 9\n",
      "this time banana jolly\n",
      "7 9\n",
      "this time banana jollt\n",
      "8 9\n",
      "this time banana molley\n",
      "9 here\n",
      "4 9\n",
      "this time jj train\n",
      "5 9\n",
      "this time jj cheer\n",
      "6 9\n",
      "this time jj jolly\n",
      "7 9\n",
      "this time jj jollt\n",
      "8 9\n",
      "this time jj molley\n",
      "9 here\n",
      "5 9\n",
      "this time train cheer\n",
      "6 9\n",
      "this time train jolly\n",
      "7 9\n",
      "this time train jollt\n",
      "8 9\n",
      "this time train molley\n",
      "9 here\n",
      "6 9\n",
      "this time cheer jolly\n",
      "{'IBM': 'HAL', 'cheer': 'jolly'}\n",
      "7 9\n",
      "this time cheer jollt\n",
      "8 9\n",
      "this time cheer molley\n",
      "9 here\n",
      "7 9\n",
      "this time jolly jollt\n",
      "8 9\n",
      "this time jolly molley\n",
      "9 here\n",
      "8 9\n",
      "this time jollt molley\n",
      "9 here\n",
      "{'IBM': 'HAL', 'cheer': 'jolly'}\n"
     ]
    }
   ],
   "source": [
    "def rotate_word(w,n):\n",
    "    wlist=list(w)\n",
    "    newl=[]\n",
    "    for letter in wlist:\n",
    "        newl.append(chr(ord(letter)+n))\n",
    "    return \"\".join(newl)\n",
    "\n",
    "\n",
    "def rotate_pairs(l):\n",
    "    d=dict()\n",
    "    for i in range(len(l)):\n",
    "        print(len(l), 'here')\n",
    "        word=l[i]\n",
    "        wordl=list(word)\n",
    "        for j in range(i+1,len(l)):\n",
    "            print(j, len(l))\n",
    "            newword=l[j]\n",
    "            print('this time', word, newword)\n",
    "            newwordl=list(newword)\n",
    "            n=ord(newwordl[0])-ord(wordl[0])\n",
    "            if newword == rotate_word(word,n):\n",
    "                d[word]=newword\n",
    "                print(d)\n",
    "    return d\n",
    "\n",
    "wordlist=['IBM','HAL','banana','jj','train','cheer','jolly','jollt','molley']\n",
    "\n",
    "print(rotate_pairs(wordlist))\n",
    "        "
   ]
  },
  {
   "cell_type": "code",
   "execution_count": 59,
   "metadata": {},
   "outputs": [
    {
     "name": "stdout",
     "output_type": "stream",
     "text": [
      "2\n",
      "2\n",
      "3\n",
      "4\n",
      "5\n",
      "6\n",
      "7\n"
     ]
    },
    {
     "data": {
      "text/plain": [
       "'molley'"
      ]
     },
     "execution_count": 59,
     "metadata": {},
     "output_type": "execute_result"
    }
   ],
   "source": [
    "ord('z')-ord('a')\n",
    "\n",
    "a=[1,2,3,4]\n",
    "print(a.index(3))\n",
    "\n",
    "\n",
    "for i in range(2,8):\n",
    "    print(i)\n",
    "\n",
    "\n",
    "wordlist=['IBM','HAL','banana','jj','train','cheer','jolly','jollt','molley']\n",
    "len(wordlist)\n",
    "wordlist[8]"
   ]
  }
 ],
 "metadata": {
  "kernelspec": {
   "display_name": "general",
   "language": "python",
   "name": "python3"
  },
  "language_info": {
   "codemirror_mode": {
    "name": "ipython",
    "version": 3
   },
   "file_extension": ".py",
   "mimetype": "text/x-python",
   "name": "python",
   "nbconvert_exporter": "python",
   "pygments_lexer": "ipython3",
   "version": "3.12.4"
  }
 },
 "nbformat": 4,
 "nbformat_minor": 2
}
