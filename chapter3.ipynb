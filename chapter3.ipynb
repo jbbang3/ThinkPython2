{
 "cells": [
  {
   "cell_type": "markdown",
   "metadata": {},
   "source": [
    "## Chapter3\n",
    "\n",
    "### Exercise 1\n",
    "\n",
    "Write a function named right_justify that takes a string named s as a parameter and prints the string with enough leading spaces so that the last letter of the string is in column 70 of the display.\n",
    "\n",
    "Hint: Use string concatenation and repetition. Also, Python provides a built-in function called len that returns the length of a string, so the value of len('monty') is 5."
   ]
  },
  {
   "cell_type": "code",
   "execution_count": 3,
   "metadata": {},
   "outputs": [
    {
     "name": "stdout",
     "output_type": "stream",
     "text": [
      "                                                                  monty\n",
      "ab\n"
     ]
    }
   ],
   "source": [
    "def right_justify(word):\n",
    "    print(' '*(70-len(word))+word)\n",
    "\n",
    "right_justify('monty')\n",
    "print('a'+'b')"
   ]
  },
  {
   "cell_type": "markdown",
   "metadata": {},
   "source": [
    "### Exercise 2\n",
    "\n",
    "A function object is a value you can assign to a variable or pass as an argument. For example, do_twice is a function that takes a function object as an argument and calls it twice:\n",
    "\n",
    "```python\n",
    "def do_twice(f):\n",
    "    f()\n",
    "    f()  \n",
    "```\n",
    "Here’s an example that uses do_twice to call a function named print_spam twice.\n",
    "```python\n",
    "def print_spam():\n",
    "    print('spam')\n",
    "\n",
    "do_twice(print_spam)\n",
    "```\n",
    "<ol>\n",
    "<li>Type this example into a script and test it.</li>\n",
    "<li>Modify do_twice so that it takes two arguments, a function object and a value, and calls the function twice, passing the value as an argument.</li>\n",
    "<li>Copy the definition of print_twice from earlier in this chapter to your script.</li>\n",
    "<li>Use the modified version of do_twice to call print_twice twice, passing 'spam' as an argument.</li>\n",
    "<li>Define a new function called do_four that takes a function object and a value and calls the function four times, passing the value as a parameter. There should be only two statements in the body of this function, not four.</li>\n",
    "</ol>\n"
   ]
  },
  {
   "cell_type": "code",
   "execution_count": 5,
   "metadata": {},
   "outputs": [
    {
     "name": "stdout",
     "output_type": "stream",
     "text": [
      "modifiedspam\n",
      "modifiedspam\n"
     ]
    }
   ],
   "source": [
    "def do_twice(f,x):\n",
    "    f(x)\n",
    "    f(x)\n",
    "\n",
    "def print_spam(x):\n",
    "    print(x)\n",
    "\n",
    "do_twice(print_spam,'modifiedspam')"
   ]
  },
  {
   "cell_type": "code",
   "execution_count": 6,
   "metadata": {},
   "outputs": [
    {
     "name": "stdout",
     "output_type": "stream",
     "text": [
      "spam\n",
      "spam\n",
      "spam\n",
      "spam\n"
     ]
    }
   ],
   "source": [
    "def print_twice(bruce):\n",
    "    print(bruce)\n",
    "    print(bruce)\n",
    "\n",
    "do_twice(print_twice, 'spam')"
   ]
  },
  {
   "cell_type": "code",
   "execution_count": 7,
   "metadata": {},
   "outputs": [
    {
     "name": "stdout",
     "output_type": "stream",
     "text": [
      "spam4\n",
      "spam4\n",
      "spam4\n",
      "spam4\n"
     ]
    }
   ],
   "source": [
    "def do_four(a,x):\n",
    "    do_twice(a,x)\n",
    "    do_twice(a,x)\n",
    "\n",
    "do_four(print_spam, 'spam4')"
   ]
  },
  {
   "cell_type": "markdown",
   "metadata": {},
   "source": [
    "### Exercise 4\n",
    "\n",
    "Write a function that draws a grid like the following:\n",
    "<pre>\n",
    "+ - - - - + - - - - +\n",
    "|         |         |\n",
    "|         |         |\n",
    "|         |         |\n",
    "|         |         |\n",
    "+ - - - - + - - - - +\n",
    "|         |         |\n",
    "|         |         |\n",
    "|         |         |\n",
    "|         |         |\n",
    "+ - - - - + - - - - +\n",
    "</pre>\n",
    "Hint: to print more than one value on a line, you can print a comma-separated sequence of values:\n",
    "```python\n",
    "print('+', '-')\n",
    "```\n",
    "By default, print advances to the next line, but you can override that behavior and put a space at the end, like this:\n",
    "```python\n",
    "print('+', end=' ')\n",
    "print('-')\n",
    "```\n",
    "The output of these statements is '+ -' on the same line. The output from the next print statement would begin on the next line.\n"
   ]
  },
  {
   "cell_type": "code",
   "execution_count": 46,
   "metadata": {},
   "outputs": [
    {
     "name": "stdout",
     "output_type": "stream",
     "text": [
      "+ - - - - + - - - - + - - - - + - - - - +\n",
      "|         |         |         |         |\n",
      "|         |         |         |         |\n",
      "|         |         |         |         |\n",
      "|         |         |         |         |\n",
      "+ - - - - + - - - - + - - - - + - - - - +\n",
      "|         |         |         |         |\n",
      "|         |         |         |         |\n",
      "|         |         |         |         |\n",
      "|         |         |         |         |\n",
      "+ - - - - + - - - - + - - - - + - - - - +\n",
      "|         |         |         |         |\n",
      "|         |         |         |         |\n",
      "|         |         |         |         |\n",
      "|         |         |         |         |\n",
      "+ - - - - + - - - - + - - - - + - - - - +\n",
      "|         |         |         |         |\n",
      "|         |         |         |         |\n",
      "|         |         |         |         |\n",
      "|         |         |         |         |\n",
      "+ - - - - + - - - - + - - - - + - - - - +\n"
     ]
    }
   ],
   "source": [
    "def horizon(m):\n",
    "    for i in range(m):\n",
    "        print(' -'*4+' +',end='')\n",
    "\n",
    "def vertical(m):\n",
    "    for i in range(m):\n",
    "        print(' '*9+'|', end='')\n",
    "\n",
    "def printgrid(n,m):\n",
    "    nx=n*5+1\n",
    "    for row in range(nx):\n",
    "        if row==0 or row%5==0:\n",
    "            print('+', end='')\n",
    "            horizon(m)\n",
    "            print('\\n', end='')\n",
    "        \n",
    "        else:\n",
    "            print('|', end='')\n",
    "            vertical(m)\n",
    "            print('\\n', end='')\n",
    "    \n",
    "\n",
    "\n",
    "printgrid(4,4)"
   ]
  }
 ],
 "metadata": {
  "kernelspec": {
   "display_name": "general",
   "language": "python",
   "name": "python3"
  },
  "language_info": {
   "codemirror_mode": {
    "name": "ipython",
    "version": 3
   },
   "file_extension": ".py",
   "mimetype": "text/x-python",
   "name": "python",
   "nbconvert_exporter": "python",
   "pygments_lexer": "ipython3",
   "version": "3.12.4"
  }
 },
 "nbformat": 4,
 "nbformat_minor": 2
}
