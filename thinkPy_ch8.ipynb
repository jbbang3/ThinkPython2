{
 "cells": [
  {
   "cell_type": "markdown",
   "metadata": {},
   "source": [
    "## Chapter 8-9 String\n",
    "### Exercise 8.2\n",
    "\n",
    "Write an invocation to count the number of 'a's in a word\n"
   ]
  },
  {
   "cell_type": "code",
   "execution_count": 8,
   "metadata": {},
   "outputs": [
    {
     "data": {
      "text/plain": [
       "3"
      ]
     },
     "execution_count": 8,
     "metadata": {},
     "output_type": "execute_result"
    }
   ],
   "source": [
    "a='banana'\n",
    "a.count('a')"
   ]
  },
  {
   "cell_type": "markdown",
   "metadata": {},
   "source": [
    "### Exercise 8.3\n",
    "Write a one line version of is palindrome function using string indexing method"
   ]
  },
  {
   "cell_type": "code",
   "execution_count": 10,
   "metadata": {},
   "outputs": [
    {
     "data": {
      "text/plain": [
       "True"
      ]
     },
     "execution_count": 10,
     "metadata": {},
     "output_type": "execute_result"
    }
   ],
   "source": [
    "def is_palindrom(s):\n",
    "    return s==s[::-1]\n",
    "\n",
    "is_palindrom('jeej')"
   ]
  },
  {
   "cell_type": "markdown",
   "metadata": {},
   "source": [
    "### Exercise 9.2\n",
    "1. Write a program that reads words.txt and prints only the words >20 characters."
   ]
  },
  {
   "cell_type": "code",
   "execution_count": 15,
   "metadata": {},
   "outputs": [
    {
     "name": "stdout",
     "output_type": "stream",
     "text": [
      "counterdemonstrations\n",
      "hyperaggressivenesses\n",
      "microminiaturizations\n"
     ]
    }
   ],
   "source": [
    "fin=open('words.txt')\n",
    "longword=[]\n",
    "for line in fin:\n",
    "    word=line.strip()\n",
    "    if len(word) >20:\n",
    "        longword.append(word) \n",
    "        print(word)\n",
    "\n",
    "with open(\"ch9ex1.txt\", \"w\") as tfile:\n",
    "    tfile.write('\\n'.join(longword))\n",
    "\n"
   ]
  },
  {
   "cell_type": "code",
   "execution_count": 16,
   "metadata": {},
   "outputs": [
    {
     "name": "stdout",
     "output_type": "stream",
     "text": [
      "zymurgy\n"
     ]
    }
   ],
   "source": [
    "# Checks for words with no e\n",
    "def has_no_e(w):\n",
    "    return w.count('e')==0\n",
    "\n",
    "fin=open('words.txt')\n",
    "no_e_word=[]\n",
    "for line in fin:\n",
    "    w=line.strip()\n",
    "    if has_no_e(w):\n",
    "        no_e_word.append(w)\n",
    "\n",
    "print(w)\n",
    "\n"
   ]
  },
  {
   "cell_type": "code",
   "execution_count": 26,
   "metadata": {},
   "outputs": [
    {
     "name": "stdout",
     "output_type": "stream",
     "text": [
      "0\n"
     ]
    }
   ],
   "source": [
    "# Checks for words with no certain letters\n",
    "def avoids(w, forlett):\n",
    "    forbidden=set(forlett.split())\n",
    "    print(forbidden)\n",
    "    wordlett=set(w.split())\n",
    "    print(wordlett)\n",
    "    comb=wordlett|forbidden\n",
    "\n",
    "    return len(forbidden)+len(wordlett) > len(comb)\n",
    "\n",
    "user_lett = input(\"Please enter forbidden letters\")\n",
    "\n",
    "fin=open('words.txt')\n",
    "no_forb_word=[]\n",
    "for line in fin:\n",
    "    w=line.strip()\n",
    "    if avoids(w, user_lett):\n",
    "        no_forb_word.append(w)\n",
    "        print(w)\n",
    "\n",
    "print(len(no_forb_word))"
   ]
  },
  {
   "cell_type": "code",
   "execution_count": 21,
   "metadata": {},
   "outputs": [
    {
     "name": "stdout",
     "output_type": "stream",
     "text": [
      "{'b', 'd', 'a', 'c', 'e'}\n"
     ]
    },
    {
     "data": {
      "text/plain": [
       "set"
      ]
     },
     "execution_count": 21,
     "metadata": {},
     "output_type": "execute_result"
    }
   ],
   "source": [
    "a='zdfzd'\n",
    "a.casefold()\n",
    "\n",
    "x={'a', 'b', 'c'}\n",
    "y={'a','d','e'}\n",
    "\n",
    "z=x|y\n",
    "print(z)\n",
    "\n",
    "zz='abdfas'\n",
    "aay=set(zz.split())\n",
    "type(aay)"
   ]
  }
 ],
 "metadata": {
  "kernelspec": {
   "display_name": "general",
   "language": "python",
   "name": "python3"
  },
  "language_info": {
   "codemirror_mode": {
    "name": "ipython",
    "version": 3
   },
   "file_extension": ".py",
   "mimetype": "text/x-python",
   "name": "python",
   "nbconvert_exporter": "python",
   "pygments_lexer": "ipython3",
   "version": "3.12.4"
  }
 },
 "nbformat": 4,
 "nbformat_minor": 2
}
