{
 "cells": [
  {
   "cell_type": "markdown",
   "metadata": {},
   "source": [
    "## Chapter 5\n",
    "### Exercise 1\n",
    "\n",
    "The time module provides a function, also named time, that returns the current Greenwich Mean Time in “the epoch”, which is an arbitrary time used as a reference point. On UNIX systems, the epoch is 1 January 1970.\n",
    "```python\n",
    "import time\n",
    "time.time()\n",
    "```\n",
    "Write a script that reads the current time and converts it to a time of day in hours, minutes, and seconds, plus the number of days since the epoch.\n"
   ]
  },
  {
   "cell_type": "code",
   "execution_count": 2,
   "metadata": {},
   "outputs": [
    {
     "name": "stdout",
     "output_type": "stream",
     "text": [
      "1727052650.900418\n",
      "time.struct_time(tm_year=2024, tm_mon=9, tm_mday=23, tm_hour=0, tm_min=50, tm_sec=50, tm_wday=0, tm_yday=267, tm_isdst=0)\n",
      "time.struct_time(tm_year=2024, tm_mon=9, tm_mday=22, tm_hour=17, tm_min=50, tm_sec=50, tm_wday=6, tm_yday=266, tm_isdst=1)\n",
      "xxxxxxxxxxxx\n",
      "It has been 19989.0 days, 0.0 hours, 50.0 minutes, 50.9004180431366 seconds\n",
      "this is gmtime: \n",
      "time.struct_time(tm_year=2024, tm_mon=9, tm_mday=23, tm_hour=0, tm_min=50, tm_sec=50, tm_wday=0, tm_yday=267, tm_isdst=0)\n",
      "this is localtime: \n",
      "time.struct_time(tm_year=2024, tm_mon=9, tm_mday=22, tm_hour=17, tm_min=50, tm_sec=50, tm_wday=6, tm_yday=266, tm_isdst=1)\n"
     ]
    }
   ],
   "source": [
    "import time\n",
    "\n",
    "def usercurr(a):\n",
    "    \n",
    "    day=a//(60*60*24)\n",
    "    hour=(a%(60*60*24))//(60*60)\n",
    "    min=((a%(60*60*24))%(60*60))//(60)\n",
    "    sec=((a%(60*60*24))%(60*60))%(60)\n",
    "    print('It has been {} days, {} hours, {} minutes, {} seconds'.format(day, hour, min, sec))\n",
    "\n",
    "a=time.time()\n",
    "usercurr(a)\n",
    "\n",
    "print('this is gmtime: ')\n",
    "print(time.gmtime(a))\n",
    "\n",
    "print('this is localtime: ')\n",
    "print(time.localtime(a))\n"
   ]
  },
  {
   "cell_type": "markdown",
   "metadata": {},
   "source": [
    "### Exercise 2\n",
    "Write a script to check for Fermat's Last Theorem"
   ]
  },
  {
   "cell_type": "code",
   "execution_count": 15,
   "metadata": {},
   "outputs": [
    {
     "ename": "ValueError",
     "evalue": "not enough values to unpack (expected 4, got 1)",
     "output_type": "error",
     "traceback": [
      "\u001b[0;31m---------------------------------------------------------------------------\u001b[0m",
      "\u001b[0;31mValueError\u001b[0m                                Traceback (most recent call last)",
      "Cell \u001b[0;32mIn[15], line 19\u001b[0m\n\u001b[1;32m     16\u001b[0m \u001b[38;5;28;01mdef\u001b[39;00m \u001b[38;5;21mcontains_only_integers\u001b[39m(tup):\n\u001b[1;32m     17\u001b[0m     \u001b[38;5;28;01mreturn\u001b[39;00m \u001b[38;5;28mall\u001b[39m(\u001b[38;5;28misinstance\u001b[39m(v, \u001b[38;5;28mint\u001b[39m) \u001b[38;5;28;01mfor\u001b[39;00m v \u001b[38;5;129;01min\u001b[39;00m tup)\n\u001b[0;32m---> 19\u001b[0m \u001b[43muser_fermat\u001b[49m\u001b[43m(\u001b[49m\u001b[43m)\u001b[49m\n",
      "Cell \u001b[0;32mIn[15], line 12\u001b[0m, in \u001b[0;36muser_fermat\u001b[0;34m()\u001b[0m\n\u001b[1;32m     10\u001b[0m ans \u001b[38;5;241m=\u001b[39m \u001b[38;5;28minput\u001b[39m(\u001b[38;5;124m\"\u001b[39m\u001b[38;5;124mPlease enter a,b,c,n separated by commas to check for Fermet\u001b[39m\u001b[38;5;124m'\u001b[39m\u001b[38;5;124ms Last Theorem:\u001b[39m\u001b[38;5;124m\"\u001b[39m)\n\u001b[1;32m     11\u001b[0m ans1 \u001b[38;5;241m=\u001b[39m \u001b[38;5;28mtuple\u001b[39m(\u001b[38;5;28mint\u001b[39m(v) \u001b[38;5;28;01mfor\u001b[39;00m v \u001b[38;5;129;01min\u001b[39;00m ans\u001b[38;5;241m.\u001b[39msplit(\u001b[38;5;124m\"\u001b[39m\u001b[38;5;124m,\u001b[39m\u001b[38;5;124m\"\u001b[39m))\n\u001b[0;32m---> 12\u001b[0m a,b,c,n\u001b[38;5;241m=\u001b[39mans1\n\u001b[1;32m     13\u001b[0m \u001b[38;5;28mprint\u001b[39m(ans1)\n\u001b[1;32m     14\u001b[0m check_fermat(a,b,c,n)\n",
      "\u001b[0;31mValueError\u001b[0m: not enough values to unpack (expected 4, got 1)"
     ]
    }
   ],
   "source": [
    "def check_fermat(a,b,c,n):\n",
    "    left=a**n+b**n\n",
    "    right=c**n\n",
    "    if left==right:\n",
    "        print('Holy smokes, Fermat was wrong!')\n",
    "    else:\n",
    "        print(\"No, that doesn't work\")\n",
    "\n",
    "def user_fermat():\n",
    "    ans = input(\"Please enter a,b,c,n separated by commas to check for Fermet's Last Theorem:\")\n",
    "    ans1 = tuple(int(v) for v in ans.split(\",\"))\n",
    "    a,b,c,n=ans1\n",
    "    print(ans1)\n",
    "    check_fermat(a,b,c,n)\n",
    "        \n",
    "def contains_only_integers(tup):\n",
    "    return all(isinstance(v, int) for v in tup)\n",
    "\n",
    "user_fermat()"
   ]
  },
  {
   "cell_type": "markdown",
   "metadata": {},
   "source": [
    "## Exercise 3\n",
    "If any of the three lengths is greater than the sum of the other two, then you cannot form a triangle. Otherwise, you can. (If the sum of two lengths equals the third, they form what is called a “degenerate” triangle.\n",
    "\n",
    "<ol>\n",
    "<li>Write a function named is_triangle that takes three integers as arguments, and that prints either “Yes” or “No”, depending on whether you can or cannot form a triangle from sticks with the given lengths.</li>\n",
    "<li>Write a function that prompts the user to input three stick lengths, converts them to integers, and uses is_triangle to check whether sticks with the given lengths can form a triangle.</li>\n",
    "</ol>"
   ]
  },
  {
   "cell_type": "code",
   "execution_count": 18,
   "metadata": {},
   "outputs": [],
   "source": [
    "def is_triangle(m):\n",
    "    x=max(m)\n",
    "    yz=sum(m)-x\n",
    "\n",
    "    return x<yz\n",
    "\n",
    "def user_triangle():\n",
    "    ans=input(\"Please enter a,b,c separated by commas\")\n",
    "    ans1=tuple(int(v) for v in ans.split(\",\"))\n",
    "    is_triangle(ans1)\n",
    "\n",
    "user_triangle()\n",
    "\n"
   ]
  },
  {
   "cell_type": "code",
   "execution_count": 10,
   "metadata": {},
   "outputs": [
    {
     "data": {
      "text/plain": [
       "12"
      ]
     },
     "execution_count": 10,
     "metadata": {},
     "output_type": "execute_result"
    }
   ],
   "source": [
    "max(1,2,3)\n",
    "\n",
    "sum((1,2,4,5))"
   ]
  }
 ],
 "metadata": {
  "kernelspec": {
   "display_name": "general",
   "language": "python",
   "name": "python3"
  },
  "language_info": {
   "codemirror_mode": {
    "name": "ipython",
    "version": 3
   },
   "file_extension": ".py",
   "mimetype": "text/x-python",
   "name": "python",
   "nbconvert_exporter": "python",
   "pygments_lexer": "ipython3",
   "version": "3.12.4"
  }
 },
 "nbformat": 4,
 "nbformat_minor": 2
}
