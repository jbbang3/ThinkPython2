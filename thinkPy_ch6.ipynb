{
 "cells": [
  {
   "cell_type": "markdown",
   "metadata": {},
   "source": [
    "## Chapter 6 Fruitful functions\n",
    "### Exercise 2\n",
    "\n",
    "Write an Ackermann function, ack(m,n)\n"
   ]
  },
  {
   "cell_type": "code",
   "execution_count": 11,
   "metadata": {},
   "outputs": [
    {
     "data": {
      "text/plain": [
       "125"
      ]
     },
     "execution_count": 11,
     "metadata": {},
     "output_type": "execute_result"
    }
   ],
   "source": [
    "def ack(m,n):\n",
    "    if m < 0 or n < 0:\n",
    "        return None\n",
    "    elif m==0:\n",
    "        return n+1\n",
    "    elif m>0 and n==0:\n",
    "        return ack(m-1, 1)\n",
    "    elif m>0 and n>0:\n",
    "        return ack(m-1, ack(m,n-1))\n",
    "\n",
    "ack(3,4)\n"
   ]
  },
  {
   "cell_type": "markdown",
   "metadata": {},
   "source": [
    "### Exercise 3\n",
    "\n",
    "Write a function called *is_palindrome* that takes a string argument and returns True if it is a palindrome and False otherwise. Remember that you can use the built-in function len to check the length of a string.\n"
   ]
  },
  {
   "cell_type": "code",
   "execution_count": 16,
   "metadata": {},
   "outputs": [
    {
     "data": {
      "text/plain": [
       "True"
      ]
     },
     "execution_count": 16,
     "metadata": {},
     "output_type": "execute_result"
    }
   ],
   "source": [
    "def first(word):\n",
    "    return word[0]\n",
    "\n",
    "def last(word):\n",
    "    return word[-1]\n",
    "\n",
    "def middle(word):\n",
    "    return word[1:-1]\n",
    "\n",
    "def is_palindrome(word):\n",
    "    if len(word) <=0:\n",
    "        return None\n",
    "    elif len(word) ==1:\n",
    "        return True\n",
    "    elif first(word) == last(word):\n",
    "        if len(word) ==2:\n",
    "            return True\n",
    "        return is_palindrome(middle(word))\n",
    "    else: \n",
    "        return False\n",
    "\n",
    "is_palindrome('jeej')"
   ]
  },
  {
   "cell_type": "markdown",
   "metadata": {},
   "source": [
    "### Exercise 4\n",
    "A number, $a$, is a power of $b$ if it is divisible by $b$ and $a/b$ is a power of $b$. Write a function called *is_power* that takes parameters $a$ and $b$ and returns True if $a$ is a power of $b$. Note: you will have to think about the base case."
   ]
  },
  {
   "cell_type": "code",
   "execution_count": 25,
   "metadata": {},
   "outputs": [
    {
     "name": "stdout",
     "output_type": "stream",
     "text": [
      "8 2\n",
      "4 2\n",
      "2 2\n",
      "1 2\n"
     ]
    },
    {
     "data": {
      "text/plain": [
       "False"
      ]
     },
     "execution_count": 25,
     "metadata": {},
     "output_type": "execute_result"
    }
   ],
   "source": [
    "def is_power(a,b):\n",
    "    print(a, b)\n",
    "    if not isinstance(a,int) or not isinstance(b, int):\n",
    "        print('This only works with integers')\n",
    "        return None\n",
    "    elif a==0:\n",
    "        print(\"a cannot be zero\")\n",
    "        return None\n",
    "    elif a==1:\n",
    "        return True\n",
    "    elif a%b ==0 and is_power(int(a/b), b):\n",
    "        return True\n",
    "    else:\n",
    "        return False\n",
    "\n",
    "is_power(8,2)"
   ]
  },
  {
   "cell_type": "markdown",
   "metadata": {},
   "source": [
    "#### Leetcode: recursive --> never forget to return\n",
    "Given a string s containing just the characters '(', ')', '{', '}', '[' and ']', determine if the input string is valid.\n",
    "\n",
    "An input string is valid if:\n",
    "\n",
    "Open brackets must be closed by the same type of brackets.\n",
    "Open brackets must be closed in the correct order.\n",
    "Every close bracket has a corresponding open bracket of the same type.\n",
    "\n",
    "\n",
    "\n",
    "TEst cases: '()', '()[]{}', '(]', '([])'"
   ]
  },
  {
   "cell_type": "code",
   "execution_count": null,
   "metadata": {},
   "outputs": [
    {
     "name": "stdout",
     "output_type": "stream",
     "text": [
      "0 start\n",
      "2\n",
      "((\n",
      "y\n",
      "1 start\n",
      "2\n",
      "((\n"
     ]
    },
    {
     "data": {
      "text/plain": [
       "False"
      ]
     },
     "metadata": {},
     "output_type": "display_data"
    }
   ],
   "source": [
    "pair={'(':')','[':']', '{':'}' }\n",
    "def test(s):\n",
    "    if len(s) <=0:\n",
    "        return None\n",
    "    elif len(s)%2==1:\n",
    "        return False\n",
    "    n=0\n",
    "    while n < len(s):\n",
    "        print(n,'start')\n",
    "        recent=s[n]\n",
    "        print(len(s))\n",
    "        print(s)\n",
    "        if n+1 == len(s):\n",
    "            return False\n",
    "        elif pair[recent]==s[n+1]:\n",
    "            print('ddd','---',s)\n",
    "            if len(s)==2:\n",
    "                print('true')\n",
    "                return True\n",
    "            else:\n",
    "                s=s[:n]+s[n+2:]\n",
    "                return test(s)\n",
    "        elif s[n+1] in pair:        #this checks for keys\n",
    "            print('y')\n",
    "            n=n+1\n",
    "        else:\n",
    "            print('here')\n",
    "            return False\n",
    " \n",
    "        \n",
    "\n",
    "test('((')"
   ]
  },
  {
   "cell_type": "code",
   "execution_count": null,
   "metadata": {},
   "outputs": [
    {
     "name": "stdout",
     "output_type": "stream",
     "text": [
      "(\n",
      "1st ['(']\n",
      "(\n",
      "1st ['(', '(']\n",
      "{\n",
      "1st ['(', '(', '{']\n",
      "}\n",
      "{\n",
      "1st ['(', '(', '{']\n",
      "}\n"
     ]
    },
    {
     "data": {
      "text/plain": [
       "False"
      ]
     },
     "metadata": {},
     "output_type": "display_data"
    }
   ],
   "source": [
    "\n",
    "def isValid(s):\n",
    "    stack = [] # only use append and pop\n",
    "    pairs = {\n",
    "        '(': ')',\n",
    "        '{': '}',\n",
    "        '[': ']'\n",
    "    }\n",
    "    for bracket in s:\n",
    "        print(bracket)\n",
    "        if bracket in pairs:\n",
    "            stack.append(bracket)\n",
    "            print('1st',stack)\n",
    "        elif len(stack) == 0 or bracket != pairs[stack.pop()]:\n",
    "            print('2nd', stack)\n",
    "            return False\n",
    "    return len(stack) == 0\n",
    "\n",
    "isValid('(({}{}')"
   ]
  }
 ],
 "metadata": {
  "kernelspec": {
   "display_name": "general",
   "language": "python",
   "name": "python3"
  },
  "language_info": {
   "codemirror_mode": {
    "name": "ipython",
    "version": 3
   },
   "file_extension": ".py",
   "mimetype": "text/x-python",
   "name": "python",
   "nbconvert_exporter": "python",
   "pygments_lexer": "ipython3",
   "version": "3.12.4"
  }
 },
 "nbformat": 4,
 "nbformat_minor": 2
}
