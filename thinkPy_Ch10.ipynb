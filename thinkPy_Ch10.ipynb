{
 "cells": [
  {
   "cell_type": "markdown",
   "metadata": {},
   "source": [
    "## Ch10 List\n",
    "### Exercise 1\n",
    "\n",
    "Write a function called nested_sum that takes a list of lists of integers and adds up the elements from all of the nested lists"
   ]
  },
  {
   "cell_type": "code",
   "execution_count": 2,
   "metadata": {},
   "outputs": [
    {
     "data": {
      "text/plain": [
       "21"
      ]
     },
     "execution_count": 2,
     "metadata": {},
     "output_type": "execute_result"
    }
   ],
   "source": [
    "def nested_sum(l):\n",
    "    x=0\n",
    "    for unit in l:\n",
    "        x+=sum(unit)\n",
    "    return x\n",
    "\n",
    "t = [[1, 2], [3], [4, 5, 6]]\n",
    "nested_sum(t)"
   ]
  },
  {
   "cell_type": "markdown",
   "metadata": {},
   "source": [
    "### Exercise 2\n",
    "Write a function called cumsum that takes a list of numbers and returns the cumulative sum; that is, a new list where the ith element is the sum of the first i+1 elements from the original list. For example:"
   ]
  },
  {
   "cell_type": "code",
   "execution_count": 14,
   "metadata": {},
   "outputs": [
    {
     "name": "stdout",
     "output_type": "stream",
     "text": [
      "0\n",
      "1\n",
      "2\n"
     ]
    },
    {
     "data": {
      "text/plain": [
       "[1, 3, 6]"
      ]
     },
     "execution_count": 14,
     "metadata": {},
     "output_type": "execute_result"
    }
   ],
   "source": [
    "def cumsum(l):\n",
    "    x=[]\n",
    "    for i in range(len(l)):\n",
    "        print(i)\n",
    "        x.append(sum(l[:i+1]))\n",
    "    return x\n",
    "\n",
    "t = [1, 2, 3]\n",
    "cumsum(t)"
   ]
  },
  {
   "cell_type": "markdown",
   "metadata": {},
   "source": [
    "### Exercise 3\n",
    "Write a function called middle that takes a list and returns a new list that contains all but the first and last elements. "
   ]
  },
  {
   "cell_type": "code",
   "execution_count": 17,
   "metadata": {},
   "outputs": [
    {
     "data": {
      "text/plain": [
       "[2, 3]"
      ]
     },
     "execution_count": 17,
     "metadata": {},
     "output_type": "execute_result"
    }
   ],
   "source": [
    "def chop(l):\n",
    "    return l[1:-1]\n",
    "\n",
    "t = [1, 2, 3, 4]\n",
    "chop(t)"
   ]
  },
  {
   "cell_type": "markdown",
   "metadata": {},
   "source": [
    "### Exercise 5\n",
    "Write a function called is_sorted that takes a list as a parameter and returns True if the list is sorted in ascending order and False otherwise."
   ]
  },
  {
   "cell_type": "code",
   "execution_count": 31,
   "metadata": {},
   "outputs": [
    {
     "name": "stdout",
     "output_type": "stream",
     "text": [
      "True\n",
      "False\n"
     ]
    }
   ],
   "source": [
    "def is_sorted(l):\n",
    "    lcopy=l[:]\n",
    "    lcopy.sort()\n",
    "    return lcopy==l\n",
    "\n",
    "print(is_sorted([1, 2, 2]))\n",
    "print(is_sorted(['b', 'a']))"
   ]
  },
  {
   "cell_type": "markdown",
   "metadata": {},
   "source": [
    "### Exercise 6\n",
    "Two words are anagrams if you can rearrange the letters from one to spell the other. Write a function called is_anagram that takes two strings and returns True if they are anagrams."
   ]
  },
  {
   "cell_type": "code",
   "execution_count": 38,
   "metadata": {},
   "outputs": [
    {
     "name": "stdout",
     "output_type": "stream",
     "text": [
      "['a', 'b', 'e', 't']\n",
      "['a', 'b', 'e', 't']\n"
     ]
    },
    {
     "data": {
      "text/plain": [
       "True"
      ]
     },
     "execution_count": 38,
     "metadata": {},
     "output_type": "execute_result"
    }
   ],
   "source": [
    "def is_anagram(w1,w2):\n",
    "    if len(w1)==len(w2):\n",
    "        let1=list(w1)\n",
    "        let1.sort()\n",
    "        print(let1)\n",
    "\n",
    "        let2=list(w2)\n",
    "        let2.sort()\n",
    "        print(let2)\n",
    "        \n",
    "        return let1==let2\n",
    "\n",
    "is_anagram('beat','teab')"
   ]
  },
  {
   "cell_type": "markdown",
   "metadata": {},
   "source": [
    "### Exercise 7\n",
    "Write a function called has_duplicates that takes a list and returns True if there is any element that appears more than once. It should not modify the original list."
   ]
  },
  {
   "cell_type": "code",
   "execution_count": 40,
   "metadata": {},
   "outputs": [
    {
     "data": {
      "text/plain": [
       "False"
      ]
     },
     "execution_count": 40,
     "metadata": {},
     "output_type": "execute_result"
    }
   ],
   "source": [
    "def has_duplicates(l):\n",
    "    t=set(l)\n",
    "    return len(l) > len(t)\n",
    "\n",
    "has_duplicates([1,2,5,6,23])"
   ]
  },
  {
   "cell_type": "markdown",
   "metadata": {},
   "source": [
    "### Exercise 8\n",
    "If there are 23 students in your class, what are the chances that two of them have the same birthday? You can estimate this probability by generating random samples of 23 birthdays and checking for matches. Hint: you can generate random birthdays with the randint function in the random module."
   ]
  },
  {
   "cell_type": "code",
   "execution_count": 66,
   "metadata": {},
   "outputs": [
    {
     "name": "stdout",
     "output_type": "stream",
     "text": [
      "[[11, 4], [4, 15], [4, 24], [12, 31], [8, 27], [3, 24], [5, 5], [2, 11], [11, 26], [12, 14], [11, 27], [2, 28], [1, 4], [10, 18], [4, 24], [8, 19], [12, 6], [6, 9], [1, 13], [8, 25], [10, 30], [8, 11], [5, 4]]\n",
      "1\n"
     ]
    }
   ],
   "source": [
    "import random\n",
    "\n",
    "def genbirthday():\n",
    "    x=[]\n",
    "    for i in range(23):\n",
    "        m=random.randint(1,12)\n",
    "        if m in [1,3,5,7,8,10,12]:\n",
    "            d=random.randint(1,31)\n",
    "        elif m ==2:\n",
    "            d=random.randint(1,28)\n",
    "        else:\n",
    "            d=random.randint(1,30)\n",
    "        x.append([m,d])\n",
    "    return x\n",
    "\n",
    "def check(l):\n",
    "    c=0\n",
    "    for i in range(len(l)):\n",
    "        for j in range(i+1,len(l)):\n",
    "            if l[i] == l[j]:\n",
    "                c+=1\n",
    "    return c\n",
    "\n",
    "a=genbirthday()\n",
    "print(a)\n",
    "print(check(a))"
   ]
  },
  {
   "cell_type": "markdown",
   "metadata": {},
   "source": [
    "### Exercise 9\n",
    "Write a function that reads the file words.txt and builds a list with one element per word. Write two versions of this function, one using the append method and the other using the idiom t = t + [x]. Which one takes longer to run? Why?"
   ]
  },
  {
   "cell_type": "code",
   "execution_count": 42,
   "metadata": {},
   "outputs": [
    {
     "data": {
      "text/plain": [
       "True"
      ]
     },
     "execution_count": 42,
     "metadata": {},
     "output_type": "execute_result"
    }
   ],
   "source": [
    "3 in [1,2,3]"
   ]
  },
  {
   "cell_type": "markdown",
   "metadata": {},
   "source": [
    "### Exercise 10\n",
    "To check whether a word is in the word list, you could use the in operator, but it would be slow because it searches through the words in order.\n",
    "\n",
    "Because the words are in alphabetical order, we can speed things up with a bisection search (also known as binary search), which is similar to what you do when you look a word up in the dictionary (the book, not the data structure). You start in the middle and check to see whether the word you are looking for comes before the word in the middle of the list. If so, you search the first half of the list the same way. Otherwise you search the second half.\n",
    "\n",
    "Either way, you cut the remaining search space in half. If the word list has 113,809 words, it will take about 17 steps to find the word or conclude that it’s not there.\n",
    "\n",
    "Write a function called in_bisect that takes a sorted list and a target value and returns True if the word is in the list and False if it’s not."
   ]
  },
  {
   "cell_type": "markdown",
   "metadata": {},
   "source": [
    "**Always remember to RETURN RECURSIVE FUNCTIONS**"
   ]
  },
  {
   "cell_type": "markdown",
   "metadata": {},
   "source": [
    "### Exercise 11\n",
    "Two words are a “reverse pair” if each is the reverse of the other. Write a program that finds all the reverse pairs in the word list. "
   ]
  },
  {
   "cell_type": "markdown",
   "metadata": {},
   "source": [
    "### Exercise 12\n",
    "Two words “interlock” if taking alternating letters from each forms a new word. For example, “shoe” and “cold” interlock to form “schooled”.\n",
    "<ol>\n",
    "  <li>Write a program that finds all pairs of words that interlock. Hint: don’t enumerate all pairs!</li>\n",
    "  <li>Can you find any words that are three-way interlocked; that is, every third letter forms a word, starting from the first, second or third?</li>\n",
    "</ol>"
   ]
  },
  {
   "cell_type": "code",
   "execution_count": 31,
   "metadata": {},
   "outputs": [
    {
     "name": "stdout",
     "output_type": "stream",
     "text": [
      "['so', 'he']\n",
      "['cl', 'od']\n",
      "['shoe', 'cold']\n",
      "shoe\n",
      "cold\n",
      "['cide', 'hlrn']\n",
      "['ftr', 'uue']\n",
      "['ac', 'b']\n",
      "['df', 'e']\n",
      "['abc', 'def']\n",
      "abc\n",
      "def\n",
      "{'schooled': ['shoe', 'cold'], 'adbecf': ['abc', 'def']}\n"
     ]
    }
   ],
   "source": [
    "# Write a function that searches the word list for a word\n",
    "def in_bisect(l, t):\n",
    "    if len(l)<20:\n",
    "        return t in l\n",
    "    elif t < l[len(l)//2]:\n",
    "        newl=l[:len(l)//2]\n",
    "        return in_bisect(newl,t)\n",
    "    elif t==l[len(l)//2]:\n",
    "        return True\n",
    "    else:\n",
    "        newl=l[len(l)//2:]\n",
    "        return in_bisect(newl,t)\n",
    "\n",
    "\n",
    "fin=open('words.txt')\n",
    "fullword=[]\n",
    "for line in fin:\n",
    "    w=line.strip()\n",
    "    fullword.append(w)\n",
    "\n",
    "#print(in_bisect(fullword, 'aback'))\n",
    "\n",
    "\n",
    "#Find a reverse pair --> 1m 13.7s\n",
    "def revpair(l):\n",
    "    revpairs={}\n",
    "    for word in l:\n",
    "        wordrev=word[::-1]\n",
    "        currindex=l.index(word)\n",
    "        newl=l[currindex+1:]\n",
    "        if in_bisect(newl,wordrev):\n",
    "            revpairs[word]=wordrev\n",
    "    return revpairs\n",
    "\n",
    "\n",
    "#print(revpair(fullword))\n",
    "\n",
    "#Find a reverse pair --> 1m 13.7s\n",
    "def interlock(l,n):\n",
    "    interlock_pair={}\n",
    "    for word in l:\n",
    "        original=[]\n",
    "        if len(word)>n:     #because you can't interlock alphabets\n",
    "            for i in range(n):\n",
    "                original.append(word[i::n])\n",
    "                \n",
    "        print(original)\n",
    "        c=0\n",
    "        for ori in original:\n",
    "            if in_bisect(l,ori):\n",
    "                c+=1\n",
    "                print(ori)\n",
    "        if c==n:\n",
    "            interlock_pair[word]=original        \n",
    "    return interlock_pair\n",
    "\n",
    "\n",
    "\n",
    "wordlist=['shoe','cold','schooled','children','future','abc','def','adbecf']\n",
    "\n",
    "print(interlock(wordlist,2))\n",
    "    "
   ]
  },
  {
   "cell_type": "code",
   "execution_count": 33,
   "metadata": {},
   "outputs": [
    {
     "name": "stdout",
     "output_type": "stream",
     "text": [
      "bde\n",
      "124\n",
      "{'a': 1, 'b': 1, 'o': 2, 'n': 1, 's': 2, 'r': 2, 'u': 2, 't': 1}\n"
     ]
    }
   ],
   "source": [
    "s='abcdfe'\n",
    "print(s[1::2])\n",
    "\n",
    "\n",
    "h={'a': 1, 'b': 1, 'o': 2, 'n': 1, 's': 2, 'r': 2, 'u': 2, 't': 1}\n",
    "print(h.get('dfasf',124))\n",
    "print(h)"
   ]
  }
 ],
 "metadata": {
  "kernelspec": {
   "display_name": "general",
   "language": "python",
   "name": "python3"
  },
  "language_info": {
   "codemirror_mode": {
    "name": "ipython",
    "version": 3
   },
   "file_extension": ".py",
   "mimetype": "text/x-python",
   "name": "python",
   "nbconvert_exporter": "python",
   "pygments_lexer": "ipython3",
   "version": "3.12.4"
  }
 },
 "nbformat": 4,
 "nbformat_minor": 2
}
